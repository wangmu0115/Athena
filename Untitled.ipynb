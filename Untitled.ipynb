{
 "cells": [
  {
   "cell_type": "code",
   "execution_count": 13,
   "id": "be5cc793-d589-4948-b164-44a6679ffe52",
   "metadata": {},
   "outputs": [],
   "source": [
    "json_str1 = \"\"\"\n",
    "    {\n",
    "        \"name\": \"Remilia\",\n",
    "        \"age\": 1e5,\n",
    "        \"address\": null\n",
    "    }\n",
    "\"\"\""
   ]
  },
  {
   "cell_type": "code",
   "execution_count": 14,
   "id": "d1c93784-84af-4632-a892-d6ae9774b61c",
   "metadata": {},
   "outputs": [],
   "source": [
    "import json"
   ]
  },
  {
   "cell_type": "code",
   "execution_count": 15,
   "id": "b888a4bf-c094-4090-b01d-01db70f35217",
   "metadata": {},
   "outputs": [
    {
     "data": {
      "text/plain": [
       "{'name': 'Remilia', 'age': 100000.0, 'address': None}"
      ]
     },
     "execution_count": 15,
     "metadata": {},
     "output_type": "execute_result"
    }
   ],
   "source": [
    "json.loads(json_str1)"
   ]
  },
  {
   "cell_type": "code",
   "execution_count": null,
   "id": "1be37f3e-d115-469d-bce4-57780d942429",
   "metadata": {},
   "outputs": [],
   "source": []
  }
 ],
 "metadata": {
  "kernelspec": {
   "display_name": "Python 3 (ipykernel)",
   "language": "python",
   "name": "python3"
  },
  "language_info": {
   "codemirror_mode": {
    "name": "ipython",
    "version": 3
   },
   "file_extension": ".py",
   "mimetype": "text/x-python",
   "name": "python",
   "nbconvert_exporter": "python",
   "pygments_lexer": "ipython3",
   "version": "3.12.11"
  }
 },
 "nbformat": 4,
 "nbformat_minor": 5
}
