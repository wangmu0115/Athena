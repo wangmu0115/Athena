{
 "cells": [
  {
   "cell_type": "code",
   "execution_count": 19,
   "id": "63898dcf",
   "metadata": {},
   "outputs": [
    {
     "name": "stdout",
     "output_type": "stream",
     "text": [
      "8364\n",
      "€\n"
     ]
    }
   ],
   "source": [
    "############################################################\n",
    "# ord(character) 返回 Unicode 字符的码点\n",
    "# chr(codepoint) 返回 码点对应的 Unicode 字符\n",
    "############################################################\n",
    "print(ord(\"€\"))\n",
    "print(chr(8364))"
   ]
  },
  {
   "cell_type": "code",
   "execution_count": null,
   "id": "a40641dd",
   "metadata": {},
   "outputs": [
    {
     "name": "stdout",
     "output_type": "stream",
     "text": [
      "b'caf\\xc3\\xa9'\n",
      "99,97,102,195,169\n",
      "bytearray(b'caf\\xc3\\xa9')\n",
      "99|97|102|195|169\n"
     ]
    }
   ],
   "source": [
    "############################################################\n",
    "# bytes(source, encoding) 返回 bytes 实例，二进制序列类型，每一项都位于 [0, 255] 中\n",
    "# bytearray(source, encoding) 返回 bytearray 实例，二进制序列类型，每一项都位于 [0, 255] 中\n",
    "############################################################\n",
    "b = bytes(\"café\", encoding=\"utf-8\")\n",
    "print(b)\n",
    "print(\",\".join(str(i) for i in b))\n",
    "ba = bytearray(\"café\", encoding=\"utf-8\")\n",
    "print(ba)\n",
    "print(\"|\".join(str(i) for i in ba))"
   ]
  },
  {
   "cell_type": "code",
   "execution_count": 25,
   "id": "14a54c21",
   "metadata": {},
   "outputs": [
    {
     "name": "stdout",
     "output_type": "stream",
     "text": [
      "<class 'UnicodeDecodeError'>\n",
      "<class 'UnicodeEncodeError'>\n",
      "<class 'UnicodeTranslateError'>\n"
     ]
    }
   ],
   "source": [
    "for subclass in UnicodeError.__subclasses__():\n",
    "    print(subclass)"
   ]
  },
  {
   "cell_type": "code",
   "execution_count": null,
   "id": "e466dabf",
   "metadata": {},
   "outputs": [],
   "source": [
    "city = \"São Paulo\"\n"
   ]
  }
 ],
 "metadata": {
  "kernelspec": {
   "display_name": "athena",
   "language": "python",
   "name": "python3"
  },
  "language_info": {
   "codemirror_mode": {
    "name": "ipython",
    "version": 3
   },
   "file_extension": ".py",
   "mimetype": "text/x-python",
   "name": "python",
   "nbconvert_exporter": "python",
   "pygments_lexer": "ipython3",
   "version": "3.12.11"
  }
 },
 "nbformat": 4,
 "nbformat_minor": 5
}
