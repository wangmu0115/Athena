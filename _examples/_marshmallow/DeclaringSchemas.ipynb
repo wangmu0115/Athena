{
 "cells": [
  {
   "cell_type": "markdown",
   "id": "3dca4ab0-f22b-4330-99c9-4a6e7a6c7f25",
   "metadata": {},
   "source": []
  },
  {
   "cell_type": "code",
   "execution_count": 20,
   "id": "d5459dd4-ef4c-469f-b657-236e89062e83",
   "metadata": {},
   "outputs": [],
   "source": [
    "###################################\n",
    "# Models\n",
    "###################################\n",
    "from dataclasses import dataclass, field\n",
    "from marshmallow import Schema, fields, INCLUDE\n",
    "from datetime import datetime\n",
    "\n",
    "\n",
    "@dataclass\n",
    "class User:\n",
    "    name: str\n",
    "    age: int\n",
    "    email: str\n",
    "    is_vip: bool = False\n",
    "    created_at: datetime = field(default_factory=datetime.now)\n",
    "\n",
    "class UserSchema(Schema):\n",
    "    name = fields.String()\n",
    "    email = fields.Email()\n",
    "    age = fields.Integer()\n",
    "    is_vip = fields.Boolean(attribute=\"is_vip\", data_key=\"vip\")\n",
    "    created_at = fields.DateTime(format=\"%Y-%m-%d %H:%M:%S\")"
   ]
  },
  {
   "cell_type": "code",
   "execution_count": 11,
   "id": "c9156a98-860d-4e8e-9ca7-91850f67102b",
   "metadata": {},
   "outputs": [
    {
     "name": "stdout",
     "output_type": "stream",
     "text": [
      "{'age': 500,\n",
      " 'created_at': '2025-09-25 18:10:14',\n",
      " 'email': 'remilia@163.com',\n",
      " 'name': 'Remilia',\n",
      " 'vip': False}\n",
      "------------------------------------------------------------------------------------------------------------------------------------------------------\n",
      "{\"name\": \"Remilia\", \"email\": \"remilia@163.com\", \"age\": 500, \"vip\": false, \"created_at\": \"2025-09-25 18:10:14\"}\n"
     ]
    }
   ],
   "source": [
    "from pprint import pprint\n",
    "\n",
    "schema = UserSchema()\n",
    "user1 = User(name=\"Remilia\", age=500, email=\"remilia@163.com\")\n",
    "pprint(schema.dump(user1)) # Serialize an object to native Python data types according to this Schema’s fields.\n",
    "print(\"-\" * 150)\n",
    "print(schema.dumps(user1)) # Same as dump(), except return a JSON-encoded string."
   ]
  },
  {
   "cell_type": "code",
   "execution_count": 13,
   "id": "5a0a806b-1f02-4511-bc56-c477a0fb5945",
   "metadata": {},
   "outputs": [
    {
     "name": "stdout",
     "output_type": "stream",
     "text": [
      "{'age': 500,\n",
      " 'created_at': '20250925_191904',\n",
      " 'email': 'flandre@163.com',\n",
      " 'name': 'Flandre',\n",
      " 'vip': False}\n",
      "------------------------------------------------------------------------------------------------------------------------------------------------------\n",
      "{\"name\": \"Flandre\", \"email\": \"flandre@163.com\", \"age\": 500, \"vip\": false, \"created_at\": \"20250925_191904\"}\n"
     ]
    }
   ],
   "source": [
    "UserSchema2 = Schema.from_dict(\n",
    "    {\n",
    "        \"name\": fields.String(),\n",
    "        \"email\": fields.Email(),\n",
    "        \"age\": fields.Integer(),\n",
    "        \"vip\": fields.Boolean(attribute=\"is_vip\", data_key=\"vip\"),\n",
    "        \"created_at\":fields.DateTime(format=\"%Y%m%d_%H%M%S\"),\n",
    "    }\n",
    ")\n",
    "schema2 = UserSchema2()\n",
    "user2 = User(name=\"Flandre\", age=500, email=\"flandre@163.com\")\n",
    "pprint(schema2.dump(user2)) # Serialize an object to native Python data types according to this Schema’s fields.\n",
    "print(\"-\" * 150)\n",
    "print(schema2.dumps(user2)) # Same as dump(), except return a JSON-encoded string."
   ]
  },
  {
   "cell_type": "code",
   "execution_count": 21,
   "id": "7bd3cf57-a388-473a-93e9-6bb830bfe733",
   "metadata": {},
   "outputs": [
    {
     "data": {
      "text/plain": [
       "'{\"name\": \"Flandre\", \"email\": \"flandre@163.com\"}'"
      ]
     },
     "execution_count": 21,
     "metadata": {},
     "output_type": "execute_result"
    }
   ],
   "source": [
    "# only, exclude 参数用于过滤输出\n",
    "schema3 = UserSchema2(only=(\"name\", \"email\"), unknown=INCLUDE)\n",
    "schema3.dumps(user2)"
   ]
  },
  {
   "cell_type": "code",
   "execution_count": 23,
   "id": "0db0ab12-ad3e-48bc-b782-12901f764cf2",
   "metadata": {},
   "outputs": [
    {
     "data": {
      "text/plain": [
       "{'name': 'Flandre',\n",
       " 'email': 'flandre@163.com',\n",
       " 'age': 500,\n",
       " 'vip': False,\n",
       " 'created_at': '20250925_191904'}"
      ]
     },
     "execution_count": 23,
     "metadata": {},
     "output_type": "execute_result"
    }
   ],
   "source": [
    "schema3.loads('{\"name\": \"Flandre\", \"email\": \"flandre@163.com\", \"age\": 500, \"vip\": false, \"created_at\": \"20250925_191904\"}')"
   ]
  },
  {
   "cell_type": "code",
   "execution_count": 1,
   "id": "bf46e2d3-b2e9-4f36-b120-1b7887582758",
   "metadata": {},
   "outputs": [],
   "source": [
    "from _nesting_schemas import User, Blog, UserSchema, BlogSchema, BlogSchema2, SiteSchema\n",
    "from pprint import pprint"
   ]
  },
  {
   "cell_type": "code",
   "execution_count": 2,
   "id": "eb3a1c13",
   "metadata": {},
   "outputs": [
    {
     "data": {
      "text/plain": [
       "{'name': 'Remilia',\n",
       " 'email': 'Remilia@gmail.com',\n",
       " 'created_at': '2025-09-25 21:05:41',\n",
       " 'friends': ['Mike', 'Joe']}"
      ]
     },
     "execution_count": 2,
     "metadata": {},
     "output_type": "execute_result"
    }
   ],
   "source": [
    "user = User(name=\"Remilia\", email=\"Remilia@gmail.com\", friends=[User(name=\"Mike\", email=\"\"), User(name=\"Joe\", email=\"\")])\n",
    "blog = Blog(title=\"Something Completely Different\", author=user)\n",
    "UserSchema(partial=False).dump(user)\n",
    "#res = BlogSchema().dump(blog)"
   ]
  },
  {
   "cell_type": "code",
   "execution_count": 3,
   "id": "601a7ac5",
   "metadata": {},
   "outputs": [
    {
     "data": {
      "text/plain": [
       "{'title': 'Something Completely Different',\n",
       " 'author': {'name': 'Remilia',\n",
       "  'email': 'Remilia@gmail.com',\n",
       "  'created_at': '2025-09-25 20:42:50'}}"
      ]
     },
     "execution_count": 3,
     "metadata": {},
     "output_type": "execute_result"
    }
   ],
   "source": [
    "res"
   ]
  },
  {
   "cell_type": "code",
   "execution_count": 4,
   "id": "319d1de9",
   "metadata": {},
   "outputs": [
    {
     "data": {
      "text/plain": [
       "'{\"title\": \"Something Completely Different\", \"author\": {\"name\": \"Remilia\", \"email\": \"Remilia@gmail.com\"}}'"
      ]
     },
     "execution_count": 4,
     "metadata": {},
     "output_type": "execute_result"
    }
   ],
   "source": [
    "BlogSchema2().dumps(blog)"
   ]
  },
  {
   "cell_type": "code",
   "execution_count": 5,
   "id": "931ffa08",
   "metadata": {},
   "outputs": [],
   "source": [
    "site = {\"blog\": blog}"
   ]
  },
  {
   "cell_type": "code",
   "execution_count": 7,
   "id": "1db3b74a",
   "metadata": {},
   "outputs": [
    {
     "data": {
      "text/plain": [
       "{'blog': {'author': {'name': 'Remilia'}}}"
      ]
     },
     "execution_count": 7,
     "metadata": {},
     "output_type": "execute_result"
    }
   ],
   "source": [
    "SiteSchema(only=(\"blog.author.name\", )).dump(site)"
   ]
  },
  {
   "cell_type": "code",
   "execution_count": null,
   "id": "45cb15e7",
   "metadata": {},
   "outputs": [],
   "source": []
  }
 ],
 "metadata": {
  "kernelspec": {
   "display_name": "athena",
   "language": "python",
   "name": "python3"
  },
  "language_info": {
   "codemirror_mode": {
    "name": "ipython",
    "version": 3
   },
   "file_extension": ".py",
   "mimetype": "text/x-python",
   "name": "python",
   "nbconvert_exporter": "python",
   "pygments_lexer": "ipython3",
   "version": "3.12.11"
  }
 },
 "nbformat": 4,
 "nbformat_minor": 5
}
