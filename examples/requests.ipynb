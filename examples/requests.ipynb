{
 "cells": [
  {
   "cell_type": "code",
   "execution_count": null,
   "id": "ed0a3c37-e6fc-4ad3-b420-7ceb6f261ccd",
   "metadata": {},
   "outputs": [],
   "source": [
    "Response Content\n",
    "\n"
   ]
  },
  {
   "cell_type": "code",
   "execution_count": 3,
   "id": "633aeefe-ae74-474c-9636-c97095427d78",
   "metadata": {},
   "outputs": [],
   "source": [
    "import requests\n",
    "from pprint import pprint"
   ]
  },
  {
   "cell_type": "code",
   "execution_count": 45,
   "id": "5c1ef0e4-6182-4c4f-9d5b-72a8c31bac91",
   "metadata": {},
   "outputs": [
    {
     "name": "stdout",
     "output_type": "stream",
     "text": [
      "('{\\n'\n",
      " '  \"args\": {\\n'\n",
      " '    \"name1\": [\\n'\n",
      " '      \"value1\", \\n'\n",
      " '      \"value1\"\\n'\n",
      " '    ], \\n'\n",
      " '    \"name2\": \"value2\"\\n'\n",
      " '  }, \\n'\n",
      " '  \"headers\": {\\n'\n",
      " '    \"Accept\": \"*/*\", \\n'\n",
      " '    \"Accept-Encoding\": \"gzip, deflate\", \\n'\n",
      " '    \"Content-Type\": \"application/json; charset=utf-8\", \\n'\n",
      " '    \"Host\": \"httpbin.org\", \\n'\n",
      " '    \"User-Agent\": \"python-requests/2.32.5\", \\n'\n",
      " '    \"X-Amzn-Trace-Id\": \"Root=1-68c51ca5-7713792d2433ea9d02f8165e\"\\n'\n",
      " '  }, \\n'\n",
      " '  \"origin\": \"111.198.229.70\", \\n'\n",
      " '  \"url\": \"http://httpbin.org/get?name1=value1&name1=value1&name2=value2\"\\n'\n",
      " '}\\n')\n"
     ]
    }
   ],
   "source": [
    "url = \"http://httpbin.org/get?name1=value1\"\n",
    "query_params = {\"name1\": \"value1\", \"name2\": \"value2\", \"name3\": None}\n",
    "query_headers = {\n",
    "    \"Content-Type\": \"application/json; charset=utf-8\",\n",
    "}\n",
    "resp = requests.get(url, query_params, headers=query_headers)\n",
    "pprint(resp.text)"
   ]
  },
  {
   "cell_type": "code",
   "execution_count": 41,
   "id": "9587b72a-867f-4d43-81d2-6f903a65f007",
   "metadata": {},
   "outputs": [
    {
     "name": "stdout",
     "output_type": "stream",
     "text": [
      "{'args': {'name1': 'value1'},\n",
      " 'headers': {'Accept': '*/*',\n",
      "             'Accept-Encoding': 'gzip, deflate',\n",
      "             'Content-Type': 'application/json; charset=utf-8',\n",
      "             'Host': 'httpbin.org',\n",
      "             'User-Agent': 'python-requests/2.32.5',\n",
      "             'X-Amzn-Trace-Id': 'Root=1-68c44949-5ac5824f0654ed651c616418'},\n",
      " 'origin': '111.198.229.70',\n",
      " 'url': 'http://httpbin.org/get?name1=value1'}\n",
      "'http://httpbin.org/get?name1=value1'\n"
     ]
    }
   ],
   "source": [
    "pprint(resp.json())\n",
    "pprint(resp.url)"
   ]
  },
  {
   "cell_type": "code",
   "execution_count": 21,
   "id": "ddb49477-23cc-4e61-8137-3fb829e45528",
   "metadata": {},
   "outputs": [
    {
     "name": "stdout",
     "output_type": "stream",
     "text": [
      "<Response [401]>\n"
     ]
    }
   ],
   "source": [
    "url = \"https://api.github.com/events\"\n",
    "resp = requests.get(url)\n",
    "pprint(resp)"
   ]
  },
  {
   "cell_type": "markdown",
   "id": "7a003980-a751-47d8-93d7-60b8cc70feae",
   "metadata": {},
   "source": [
    "### query string\n",
    "\n",
    "provide these arguments as a dictionary of strings, using the params keyword argument."
   ]
  },
  {
   "cell_type": "code",
   "execution_count": 42,
   "id": "58976b07-bd5e-4939-a7e5-edf88013e019",
   "metadata": {},
   "outputs": [
    {
     "name": "stdout",
     "output_type": "stream",
     "text": [
      "<Response [200]>\n"
     ]
    }
   ],
   "source": [
    "payload = {'key1': 'value1', 'key2': 'value2'}\n",
    "resp = requests.get('https://httpbin.org/get?key1=value1', params=payload)\n",
    "pprint(resp)"
   ]
  },
  {
   "cell_type": "code",
   "execution_count": 43,
   "id": "340e0fa7-d68c-4343-9367-cc45cedbb125",
   "metadata": {},
   "outputs": [
    {
     "name": "stdout",
     "output_type": "stream",
     "text": [
      "'https://httpbin.org/get?key1=value1&key1=value1&key2=value2'\n"
     ]
    }
   ],
   "source": [
    "pprint(resp.url)"
   ]
  },
  {
   "cell_type": "code",
   "execution_count": 24,
   "id": "11a4d936-bf7b-4e40-ad88-5995c3ef692e",
   "metadata": {},
   "outputs": [
    {
     "name": "stdout",
     "output_type": "stream",
     "text": [
      "<Response [200]>\n",
      "'https://httpbin.org/get?key1=value1&key2=value2&key2=value3'\n"
     ]
    }
   ],
   "source": [
    "payload = {'key1': 'value1', 'key2': ['value2', 'value3']}\n",
    "resp = requests.get('https://httpbin.org/get', params=payload)\n",
    "pprint(resp)\n",
    "pprint(resp.url)"
   ]
  },
  {
   "cell_type": "code",
   "execution_count": 25,
   "id": "fb163eca-75cd-4a80-bf5a-54f7b3026949",
   "metadata": {},
   "outputs": [],
   "source": [
    "r = requests.get('https://api.github.com/events')"
   ]
  },
  {
   "cell_type": "code",
   "execution_count": 27,
   "id": "825e2822-a8c8-4cc3-948b-be0b10c1cfa4",
   "metadata": {},
   "outputs": [
    {
     "data": {
      "text/plain": [
       "'[{\"id\":\"54625848648\",\"type\":\"PushEvent\",\"actor\":{\"'"
      ]
     },
     "execution_count": 27,
     "metadata": {},
     "output_type": "execute_result"
    }
   ],
   "source": [
    "r.text[:50]"
   ]
  },
  {
   "cell_type": "code",
   "execution_count": 28,
   "id": "e20d38e7-1ba9-4d89-b8cf-ccbe3267ff04",
   "metadata": {},
   "outputs": [
    {
     "data": {
      "text/plain": [
       "'utf-8'"
      ]
     },
     "execution_count": 28,
     "metadata": {},
     "output_type": "execute_result"
    }
   ],
   "source": [
    "r.encoding"
   ]
  },
  {
   "cell_type": "code",
   "execution_count": 30,
   "id": "8c839293-f8dc-4929-a41a-aafab521b302",
   "metadata": {},
   "outputs": [
    {
     "data": {
      "text/plain": [
       "b'[{\"id\":\"54625848648\",\"type\":\"PushEvent\",\"actor\":{\"'"
      ]
     },
     "execution_count": 30,
     "metadata": {},
     "output_type": "execute_result"
    }
   ],
   "source": [
    "r.content[:50]"
   ]
  },
  {
   "cell_type": "code",
   "execution_count": 36,
   "id": "3c126085-0fb1-4a01-bab4-6eace59cb485",
   "metadata": {},
   "outputs": [],
   "source": [
    "r = requests.get('https://api.github.com/events', stream=True)"
   ]
  },
  {
   "cell_type": "code",
   "execution_count": 37,
   "id": "bc01d096-1d41-48e3-9660-3c5255a441d3",
   "metadata": {},
   "outputs": [
    {
     "data": {
      "text/plain": [
       "<urllib3.response.HTTPResponse at 0x1095a7a30>"
      ]
     },
     "execution_count": 37,
     "metadata": {},
     "output_type": "execute_result"
    }
   ],
   "source": [
    "r.raw"
   ]
  },
  {
   "cell_type": "code",
   "execution_count": 34,
   "id": "6446ac6d-9d95-4c82-a749-6373562ad73e",
   "metadata": {},
   "outputs": [
    {
     "data": {
      "text/plain": [
       "b'\\x1f\\x8b\\x08\\x00\\x00\\x00\\x00\\x00\\x00\\x03'"
      ]
     },
     "execution_count": 34,
     "metadata": {},
     "output_type": "execute_result"
    }
   ],
   "source": [
    "r.raw.read(10)"
   ]
  },
  {
   "cell_type": "code",
   "execution_count": 38,
   "id": "113e7687-b9ab-4ea7-a24f-e86bc4ec8eef",
   "metadata": {},
   "outputs": [],
   "source": [
    "with open(\"dataset/test\", 'wb') as fd:\n",
    "    for chunk in r.iter_content(chunk_size=128):\n",
    "        fd.write(chunk)"
   ]
  },
  {
   "cell_type": "code",
   "execution_count": null,
   "id": "d30d2ab2-9acf-4d8c-a7c0-7d2147e20d2b",
   "metadata": {},
   "outputs": [],
   "source": []
  }
 ],
 "metadata": {
  "kernelspec": {
   "display_name": "Python 3 (ipykernel)",
   "language": "python",
   "name": "python3"
  },
  "language_info": {
   "codemirror_mode": {
    "name": "ipython",
    "version": 3
   },
   "file_extension": ".py",
   "mimetype": "text/x-python",
   "name": "python",
   "nbconvert_exporter": "python",
   "pygments_lexer": "ipython3",
   "version": "3.12.11"
  }
 },
 "nbformat": 4,
 "nbformat_minor": 5
}
