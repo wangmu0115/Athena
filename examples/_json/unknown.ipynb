{
 "cells": [
  {
   "cell_type": "code",
   "execution_count": 5,
   "id": "3553e7d1-36ec-4a8d-957a-0a97638c7b41",
   "metadata": {},
   "outputs": [],
   "source": [
    "from marshmallow import Schema, fields, INCLUDE"
   ]
  },
  {
   "cell_type": "code",
   "execution_count": 6,
   "id": "d0ab6720-fe68-4f93-90ea-ac1b9734b5da",
   "metadata": {},
   "outputs": [],
   "source": [
    "UserSchema = Schema.from_dict(\n",
    "    {\n",
    "        \"name\": fields.Str(),\n",
    "        \"email\": fields.Email(),\n",
    "        \"created_at\": fields.DateTime()\n",
    "    }\n",
    ")"
   ]
  },
  {
   "cell_type": "code",
   "execution_count": 7,
   "id": "bcbe7529-6ac1-414d-a4e2-287d82349619",
   "metadata": {},
   "outputs": [
    {
     "data": {
      "text/plain": [
       "{'name': 'Monty',\n",
       " 'email': 'monty@python.org',\n",
       " 'created_at': datetime.datetime(2014, 8, 17, 14, 54, 16, 49594, tzinfo=datetime.timezone.utc),\n",
       " 'extra': 'Not a field'}"
      ]
     },
     "execution_count": 7,
     "metadata": {},
     "output_type": "execute_result"
    }
   ],
   "source": [
    "UserSchema(unknown=INCLUDE).load(\n",
    "    {\n",
    "        \"name\": \"Monty\",\n",
    "        \"email\": \"monty@python.org\",\n",
    "        \"created_at\": \"2014-08-17T14:54:16.049594+00:00\",\n",
    "        \"extra\": \"Not a field\",\n",
    "    }\n",
    ")"
   ]
  },
  {
   "cell_type": "code",
   "execution_count": null,
   "id": "e0b773a1-3f43-4cb1-8ed0-5bb3546bbcca",
   "metadata": {},
   "outputs": [],
   "source": []
  }
 ],
 "metadata": {
  "kernelspec": {
   "display_name": "Python 3 (ipykernel)",
   "language": "python",
   "name": "python3"
  },
  "language_info": {
   "codemirror_mode": {
    "name": "ipython",
    "version": 3
   },
   "file_extension": ".py",
   "mimetype": "text/x-python",
   "name": "python",
   "nbconvert_exporter": "python",
   "pygments_lexer": "ipython3",
   "version": "3.12.11"
  }
 },
 "nbformat": 4,
 "nbformat_minor": 5
}
