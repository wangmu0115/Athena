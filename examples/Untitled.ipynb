{
 "cells": [
  {
   "cell_type": "code",
   "execution_count": 19,
   "id": "48cf2bbd-07f6-4dc8-84c1-3542e23e39b2",
   "metadata": {},
   "outputs": [
    {
     "name": "stdout",
     "output_type": "stream",
     "text": [
      "'{\"name\": \"ACME\", \"shares\": 100, \"price\": 542.23}'\n",
      "{'name': 'ACME', 'price': 542.23, 'shares': 100}\n"
     ]
    }
   ],
   "source": [
    "import json\n",
    "from pprint import pprint\n",
    "\n",
    "data = {\n",
    "    \"name\": \"ACME\",\n",
    "    \"shares\": 100,\n",
    "    \"price\": 542.23\n",
    "}\n",
    "json_str = json.dumps(data)\n",
    "pprint(json_str)\n",
    "l_data = json.loads(json_str)\n",
    "pprint(l_data)"
   ]
  },
  {
   "cell_type": "code",
   "execution_count": 20,
   "id": "ecfa67f5-dfa0-4101-8b5e-5b10485baead",
   "metadata": {},
   "outputs": [],
   "source": [
    "with open(\"dataset/data.json\", \"w\") as f:\n",
    "    json.dump(data, f)"
   ]
  },
  {
   "cell_type": "code",
   "execution_count": 57,
   "id": "be3c56cd-bb57-4cef-bab4-b544989ebf2b",
   "metadata": {},
   "outputs": [],
   "source": [
    "from urllib.parse import urlencode, urlparse, parse_qs\n",
    "\n",
    "query_params = {\n",
    "    \"key1\": \"hello world\",\n",
    "    \"key2\": [\"value1\", \"value2\"],\n",
    "    \"key3\": 42,\n",
    "    \"key4\": 123.45,\n",
    "    \"key5\": True,\n",
    "    \"key6\": [42, 88],\n",
    "    \"key7\": None,\n",
    "    \"key8\": \"\"\n",
    "}\n",
    "query_string = urlencode(query_params, doseq=True)"
   ]
  },
  {
   "cell_type": "code",
   "execution_count": 58,
   "id": "21e65f94-efad-408c-96fc-b4e6cf7640b0",
   "metadata": {},
   "outputs": [
    {
     "data": {
      "text/plain": [
       "'key1=hello+world&key2=value1&key2=value2&key3=42&key4=123.45&key5=True&key6=42&key6=88&key7=None&key8='"
      ]
     },
     "execution_count": 58,
     "metadata": {},
     "output_type": "execute_result"
    }
   ],
   "source": [
    "query_string"
   ]
  },
  {
   "cell_type": "code",
   "execution_count": 66,
   "id": "c36233f9-5adf-4644-b761-aa8716a7bb5d",
   "metadata": {},
   "outputs": [
    {
     "data": {
      "text/plain": [
       "{'key1': ['hello world'],\n",
       " 'key2': ['value1', 'value2'],\n",
       " 'key3': ['42'],\n",
       " 'key4': ['123.45'],\n",
       " 'key5': ['True'],\n",
       " 'key6': ['42', '88'],\n",
       " 'key7': ['None']}"
      ]
     },
     "execution_count": 66,
     "metadata": {},
     "output_type": "execute_result"
    }
   ],
   "source": [
    "parse_qs(query_string)"
   ]
  },
  {
   "cell_type": "code",
   "execution_count": 59,
   "id": "ce731b2d-6168-409f-ac8e-f50b7a5cc060",
   "metadata": {},
   "outputs": [
    {
     "data": {
      "text/plain": [
       "'https://example.com/page/query/?key1=hello+world&key2=value1&key2=value2&key3=42&key4=123.45&key5=True&key6=42&key6=88&key7=None&key8='"
      ]
     },
     "execution_count": 59,
     "metadata": {},
     "output_type": "execute_result"
    }
   ],
   "source": [
    "url = \"https://example.com/page/query/\"+\"?\"+query_string\n",
    "url"
   ]
  },
  {
   "cell_type": "code",
   "execution_count": 60,
   "id": "f0077d8a-cd0a-4be4-a5a6-c392df7b4ce3",
   "metadata": {},
   "outputs": [
    {
     "data": {
      "text/plain": [
       "ParseResult(scheme='https', netloc='example.com', path='/page/query/', params='', query='key1=hello+world&key2=value1&key2=value2&key3=42&key4=123.45&key5=True&key6=42&key6=88&key7=None&key8=', fragment='')"
      ]
     },
     "execution_count": 60,
     "metadata": {},
     "output_type": "execute_result"
    }
   ],
   "source": [
    "o = urlparse(url)\n",
    "o"
   ]
  },
  {
   "cell_type": "code",
   "execution_count": 61,
   "id": "3c13d64b-9162-43f8-9bd1-02c638540615",
   "metadata": {},
   "outputs": [
    {
     "data": {
      "text/plain": [
       "'https://example.com/page/query/'"
      ]
     },
     "execution_count": 61,
     "metadata": {},
     "output_type": "execute_result"
    }
   ],
   "source": [
    "o._replace(query=\"\").geturl()"
   ]
  },
  {
   "cell_type": "code",
   "execution_count": 62,
   "id": "4e726ba5-bbb3-4c4f-b8a1-2fe97f72be81",
   "metadata": {},
   "outputs": [
    {
     "data": {
      "text/plain": [
       "ParseResult(scheme='https', netloc='example.com', path='/page/query/', params='', query='key1=hello+world&key2=value1&key2=value2&key3=42&key4=123.45&key5=True&key6=42&key6=88&key7=None&key8=', fragment='')"
      ]
     },
     "execution_count": 62,
     "metadata": {},
     "output_type": "execute_result"
    }
   ],
   "source": [
    "o"
   ]
  },
  {
   "cell_type": "code",
   "execution_count": null,
   "id": "b212fae3-85b9-4608-b8bf-bfc32bc5a2e6",
   "metadata": {},
   "outputs": [],
   "source": []
  },
  {
   "cell_type": "code",
   "execution_count": 63,
   "id": "82eb4042-84b5-4f47-8555-4f139725d7fd",
   "metadata": {},
   "outputs": [],
   "source": [
    "query_params = parse_qs(query_string)"
   ]
  },
  {
   "cell_type": "code",
   "execution_count": 64,
   "id": "e3213794-2fc3-42c9-83cc-7d387a1fbcc5",
   "metadata": {},
   "outputs": [
    {
     "data": {
      "text/plain": [
       "{'key1': ['hello world'],\n",
       " 'key2': ['value1', 'value2'],\n",
       " 'key3': ['42'],\n",
       " 'key4': ['123.45'],\n",
       " 'key5': ['True'],\n",
       " 'key6': ['42', '88'],\n",
       " 'key7': ['None']}"
      ]
     },
     "execution_count": 64,
     "metadata": {},
     "output_type": "execute_result"
    }
   ],
   "source": [
    "query_params"
   ]
  },
  {
   "cell_type": "code",
   "execution_count": 65,
   "id": "547047f4-0d49-45ae-a452-b37b88c9ee86",
   "metadata": {},
   "outputs": [],
   "source": [
    "from urllib.parse import unquote, ParseResult"
   ]
  },
  {
   "cell_type": "code",
   "execution_count": 46,
   "id": "3ef23d8c-8130-485a-af9a-c57dd52ae75a",
   "metadata": {},
   "outputs": [
    {
     "name": "stdout",
     "output_type": "stream",
     "text": [
      "['hello world']\n",
      "['value1', 'value2']\n",
      "['42']\n",
      "['123.45']\n",
      "['True']\n",
      "['42', '88']\n",
      "['None']\n"
     ]
    }
   ],
   "source": [
    "for k, v in query_params.items():\n",
    "    print([unquote(vi) for vi in v])"
   ]
  },
  {
   "cell_type": "code",
   "execution_count": 52,
   "id": "cc7fff56-d44d-4afd-b9b7-25cd11b83d8c",
   "metadata": {},
   "outputs": [
    {
     "data": {
      "text/plain": [
       "\u001b[31mInit signature:\u001b[39m ParseResult(scheme, netloc, path, params, query, fragment)\n",
       "\u001b[31mDocstring:\u001b[39m     \n",
       "ParseResult(scheme, netloc, path, params, query, fragment)\n",
       "\n",
       "A 6-tuple that contains components of a parsed URL.\n",
       "\u001b[31mSource:\u001b[39m        \n",
       "\u001b[38;5;28;01mclass\u001b[39;00m ParseResult(_ParseResultBase, _NetlocResultMixinStr):\n",
       "    __slots__ = ()\n",
       "    \u001b[38;5;28;01mdef\u001b[39;00m geturl(self):\n",
       "        \u001b[38;5;28;01mreturn\u001b[39;00m urlunparse(self)\n",
       "\u001b[31mFile:\u001b[39m           ~/miniconda3/envs/athena/lib/python3.12/urllib/parse.py\n",
       "\u001b[31mType:\u001b[39m           type\n",
       "\u001b[31mSubclasses:\u001b[39m     "
      ]
     },
     "metadata": {},
     "output_type": "display_data"
    }
   ],
   "source": [
    "ParseResult??"
   ]
  },
  {
   "cell_type": "code",
   "execution_count": 76,
   "id": "5d47913f-5f4a-4df4-84a7-1cad161f8b7f",
   "metadata": {},
   "outputs": [],
   "source": [
    "from typing import Union\n",
    "from urllib.parse import parse_qs, unquote, urlparse\n",
    "\n",
    "\n",
    "def parse_url_querystring(url: str, drop_na: bool = True, na_str: str = \"None\") -> tuple[str, dict[str, Union[str, list[str]]]]:\n",
    "    parsed_url = urlparse(url)  # urllib.parse.ParseResult\n",
    "    query_params = {}\n",
    "    if parsed_url.query and len(parsed_url.query) > 0:\n",
    "        for key, values in parse_qs(parsed_url.query).items():\n",
    "            decoded_values = [unquote(value) for value in values if not drop_na or unquote(value) != na_str]\n",
    "            if decoded_values:  # only non-None value\n",
    "                if len(decoded_values) == 1:\n",
    "                    query_params[key] = decoded_values[0]\n",
    "                else:\n",
    "                    query_params[key] = decoded_values\n",
    "    return parsed_url._replace(query=\"\").geturl(), query_params\n"
   ]
  },
  {
   "cell_type": "code",
   "execution_count": 77,
   "id": "59cd8721-f750-4665-8e1c-034267324e86",
   "metadata": {},
   "outputs": [
    {
     "data": {
      "text/plain": [
       "('https://example.com/page/query/',\n",
       " {'key1': 'hello world',\n",
       "  'key2': ['value1', 'value2'],\n",
       "  'key3': '42',\n",
       "  'key4': '123.45',\n",
       "  'key5': 'True',\n",
       "  'key6': ['42', '88'],\n",
       "  'key7': 'None'})"
      ]
     },
     "execution_count": 77,
     "metadata": {},
     "output_type": "execute_result"
    }
   ],
   "source": [
    "parse_url_querystring('https://example.com/page/query/?key1=hello+world&key2=value1&key2=value2&key3=42&key4=123.45&key5=True&key6=42&key6=88&key7=None&key8=',\n",
    "                     drop_na=False)"
   ]
  },
  {
   "cell_type": "code",
   "execution_count": null,
   "id": "fe1ae4bd-dca8-47c4-80c7-13011c67b311",
   "metadata": {},
   "outputs": [],
   "source": []
  },
  {
   "cell_type": "code",
   "execution_count": null,
   "id": "5587def7-7ced-4482-8732-e0d31b0b9a35",
   "metadata": {},
   "outputs": [],
   "source": []
  }
 ],
 "metadata": {
  "kernelspec": {
   "display_name": "Python 3 (ipykernel)",
   "language": "python",
   "name": "python3"
  },
  "language_info": {
   "codemirror_mode": {
    "name": "ipython",
    "version": 3
   },
   "file_extension": ".py",
   "mimetype": "text/x-python",
   "name": "python",
   "nbconvert_exporter": "python",
   "pygments_lexer": "ipython3",
   "version": "3.12.11"
  }
 },
 "nbformat": 4,
 "nbformat_minor": 5
}
